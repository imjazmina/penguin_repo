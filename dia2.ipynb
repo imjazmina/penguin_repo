{
 "cells": [
  {
   "cell_type": "markdown",
   "id": "1b64a3f4",
   "metadata": {},
   "source": [
    " Dia 2 24/04/25\n",
    "### Bucles Condicionales\n",
    "\n",
    "Operadores de comparacion\n",
    "mayor que >\n",
    "menor que <\n",
    "mayor o igual que >=\n",
    "menor o igual que <=\n",
    "es igual ==\n",
    "es distinto !=\n",
    "\n",
    "#### Condicional if\n",
    "if(primera condicion):\n",
    "    \n",
    "elif(segunda condicion, si no se cumple la primera):\n",
    "\n",
    "else: <!--tercera y ultima, si no se cumplen las 2 anteriores-->"
   ]
  },
  {
   "cell_type": "code",
   "execution_count": 6,
   "id": "62a5405b",
   "metadata": {},
   "outputs": [
    {
     "name": "stdout",
     "output_type": "stream",
     "text": [
      "Juguito nomas\n"
     ]
    }
   ],
   "source": [
    "edad = input(\"Ingrese su edad\")\n",
    "\n",
    "if (edad < 18 ):\n",
    "    print(\"Juguito nomas\")\n",
    "elif (edad < 21):\n",
    "    print(\"Podes tomar pero no comprar\")\n",
    "else:\n",
    "    print(\"Hace lo que quieras\")\n"
   ]
  },
  {
   "cell_type": "markdown",
   "id": "c0e379d9",
   "metadata": {},
   "source": [
    "### Operdores logicos an, or, not"
   ]
  },
  {
   "cell_type": "code",
   "execution_count": null,
   "id": "27b08920",
   "metadata": {},
   "outputs": [],
   "source": [
    "def censo(edad, trabajo):\n",
    "    if edad<18 and trabajo== True:\n",
    "        print(\"Activo laboralmente\")"
   ]
  },
  {
   "cell_type": "markdown",
   "id": "677ba47b",
   "metadata": {},
   "source": [
    "Challenge 🤺 - 30m\n",
    "Escribir un programa en el que se pregunte al usuario por una temperatura (en grados Celsius), imprima la temperatura escrita, y luego clasificar la temperatura ingresada en los siguientes niveles:\n",
    "\n",
    "Entre -10 y 18 grados, que imprima \"Fresquete\".\n",
    "Entre 19 y 30 grados, que imprima \"Calor'i\".\n",
    "Entre 31 y 45 grados, que imprima \"Hakuuuuuu\".\n",
    "Para todo lo demás, imprimir \"Ñamano mba'e!\"."
   ]
  },
  {
   "cell_type": "code",
   "execution_count": null,
   "id": "7afa6601",
   "metadata": {},
   "outputs": [
    {
     "name": "stdout",
     "output_type": "stream",
     "text": [
      "-11\n",
      "namano mba'e\n"
     ]
    }
   ],
   "source": [
    "def temp_response():\n",
    "\n",
    "    temperatura = int(input(\"Ingrese la temperatura en grados Celsius\"))\n",
    "    print(temperatura)\n",
    "    if temperatura < 18 and temperatura > -10:\n",
    "        print (\"Fesquete\")\n",
    "    elif temperatura < 30 and temperatura > 19:\n",
    "        print(\"Calor'i\")\n",
    "    elif temperatura < 31 and temperatura > 45:\n",
    "        print(\"Hakuuu\")\n",
    "    else: \n",
    "        print(\"namano mba'e\")\n",
    "\n",
    "temp_response()\n"
   ]
  },
  {
   "cell_type": "markdown",
   "id": "5ae3fb15",
   "metadata": {},
   "source": [
    "### Bucles infinitos\n",
    "\n",
    "While\n"
   ]
  },
  {
   "cell_type": "code",
   "execution_count": null,
   "id": "66894ee8",
   "metadata": {},
   "outputs": [],
   "source": [
    "numero = 11\n",
    "numeroadivivinar = 10\n",
    "while numero < numeroadivivinar:\n",
    "    numero = int(input(\"Escriba un número: \"))\n",
    "    print (numero)\n",
    "    \n",
    "print(\"Gracias por su colaboración\")"
   ]
  },
  {
   "cell_type": "markdown",
   "id": "76fe0e8e",
   "metadata": {},
   "source": [
    "While true"
   ]
  },
  {
   "cell_type": "code",
   "execution_count": null,
   "id": "ecfa2bdc",
   "metadata": {},
   "outputs": [
    {
     "name": "stdout",
     "output_type": "stream",
     "text": [
      "El numero es correcto\n"
     ]
    }
   ],
   "source": [
    "numero = 10\n",
    "while True:\n",
    "    num_ingresado = int(input(\"Ingrese un numero\"))\n",
    "    if num_ingresado == numero:\n",
    "        print(\"El numero es correcto\")\n",
    "        break\n",
    "    else:\n",
    "        print('numero incorrecto')"
   ]
  },
  {
   "cell_type": "markdown",
   "id": "b82cdf28",
   "metadata": {},
   "source": [
    "Challenge 🤺 - 20m\n",
    "Escribir un programa que almacene una contraseña en una variable, y pregunte al usuario por la contraseña hasta que introduzca la contraseña correcta.\n",
    "\n",
    "Cuando el usuario ingrese la contrasena correcta, imprimir un mensaje secreto."
   ]
  },
  {
   "cell_type": "code",
   "execution_count": 28,
   "id": "2b857054",
   "metadata": {},
   "outputs": [
    {
     "name": "stdout",
     "output_type": "stream",
     "text": [
      "Nopi. Incorrecto\n",
      "Nopi. Incorrecto\n",
      "Correcto. Un mensaje secreto\n"
     ]
    }
   ],
   "source": [
    "truepassword = \"jaz02\"\n",
    "\n",
    "while True:\n",
    "    password = input(\"Ingrese su contrasenia\")\n",
    "    if password == truepassword:\n",
    "        print(\"Correcto. Un mensaje secreto\")\n",
    "        break\n",
    "    else: \n",
    "        print(\"Nopi. Incorrecto\")\n"
   ]
  },
  {
   "cell_type": "markdown",
   "id": "279b5ab0",
   "metadata": {},
   "source": [
    "### Listas [ i ]\n",
    "Agrupacion de distintos tipos de datos. Se separan por comas\n",
    "indice empieza en 0, para acceder a los elementos\n",
    "posicion empieza en 1"
   ]
  },
  {
   "cell_type": "code",
   "execution_count": 32,
   "id": "3fa74b10",
   "metadata": {},
   "outputs": [
    {
     "name": "stdout",
     "output_type": "stream",
     "text": [
      "Imprimir un elemento especifico por indice pera\n",
      "Agregar ['manzana', 'banana', 'pera', 'kiwi']\n",
      "Modificar ['manzana', 'sandia', 'pera', 'kiwi']\n",
      "Eliminar el elemento especifico ['manzana', 'pera', 'kiwi']\n",
      "Eliminar por indice ['manzana', 'kiwi']\n",
      "longitud de la lista de frutas 2\n"
     ]
    }
   ],
   "source": [
    "lista_frutas = ['manzana', 'banana', 'pera']\n",
    "lista_de_listas = [1, 'ls', True] \n",
    "\n",
    "print(\"Imprimir un elemento especifico por indice\", lista_frutas[2])#imprime el elemento en el indice 2\n",
    "\n",
    "#agregar elementos append\n",
    "lista_frutas.append('kiwi')\n",
    "print('Agregar' , lista_frutas)\n",
    "\n",
    "#modificar elementos\n",
    "lista_frutas[1]= 'sandia'\n",
    "print('Modificar' , lista_frutas)\n",
    "\n",
    "#eliminar elemento especifico\n",
    "lista_frutas.remove('sandia')\n",
    "print('Eliminar el elemento especifico' , lista_frutas)\n",
    "\n",
    "#eliminar un elemento por indice\n",
    "lista_frutas.pop(1)\n",
    "print('Eliminar por indice' , lista_frutas)\n",
    "\n",
    "#len para saber la longitud de la lista\n",
    "print(\"longitud de la lista de frutas\" , len(lista_frutas))\n",
    "\n",
    "\n"
   ]
  },
  {
   "cell_type": "markdown",
   "id": "6ad5e5e4",
   "metadata": {},
   "source": [
    "### Challenge 🤺 - 20m\n",
    "Crear una lista de 5 elementos. Luego, seguir los siguientes pasos.\n",
    "\n",
    "Agregar un elemento al final de la lista.\n",
    "\n",
    "Modificar el segundo elemento.\n",
    "\n",
    "Eliminar el tercer elemento."
   ]
  },
  {
   "cell_type": "code",
   "execution_count": 36,
   "id": "6521586c",
   "metadata": {},
   "outputs": [
    {
     "name": "stdout",
     "output_type": "stream",
     "text": [
      "['Lapiz', 'Borrador', 'Boligrafo', 'Cuaderno', 'Libro']\n",
      "Con el elemento Corrector agregador al final ['Lapiz', 'Borrador', 'Boligrafo', 'Cuaderno', 'Libro', 'Corrector']\n",
      "El segundo elemento modificado ['Lapiz', 'Pincel', 'Boligrafo', 'Cuaderno', 'Libro', 'Corrector']\n",
      "El tercer elemento eliminado ['Lapiz', 'Pincel', 'Cuaderno', 'Libro', 'Corrector']\n"
     ]
    }
   ],
   "source": [
    "lista_utiles = ['Lapiz', 'Borrador', 'Boligrafo', 'Cuaderno', 'Libro']\n",
    "print(lista_utiles)\n",
    "\n",
    "#Agreagar un elemento al final de la lista\n",
    "lista_utiles.append('Corrector')\n",
    "print('Con el elemento Corrector agregador al final', lista_utiles)\n",
    "\n",
    "#Modificar el segundo elemento\n",
    "lista_utiles[1] = 'Pincel'\n",
    "print(\"El segundo elemento modificado\", lista_utiles)\n",
    "\n",
    "#Eliminar el tercer elemento\n",
    "lista_utiles.pop(2)\n",
    "print(\"El tercer elemento eliminado\", lista_utiles)"
   ]
  },
  {
   "cell_type": "markdown",
   "id": "22902fc2",
   "metadata": {},
   "source": [
    "### Bucle iterativo\n",
    "iterador i = cantidad de veces que se repite una accion\n"
   ]
  },
  {
   "cell_type": "code",
   "execution_count": 50,
   "id": "677219c8",
   "metadata": {},
   "outputs": [
    {
     "name": "stdout",
     "output_type": "stream",
     "text": [
      "0\n",
      "1\n",
      "2\n",
      "3\n",
      "4\n",
      "5\n",
      "6\n",
      "7\n",
      "8\n",
      "9\n",
      "10\n"
     ]
    }
   ],
   "source": [
    "'''dias_semana = ['lunes', 'martes', 'miercoles', 'jueves', 'viernes']\n",
    "\n",
    "for i in dias_semana:\n",
    "    print(i)\n",
    "'''\n",
    "for x in range (11):\n",
    "    print(x)"
   ]
  },
  {
   "cell_type": "markdown",
   "id": "b5dacb33",
   "metadata": {},
   "source": [
    "### Challenge 🤺 - 20m\n",
    "Escribir un programa que itere en un rango de 10 veces. Por cada iteracion multiplicar el iterador \n",
    "por dos e imprimir el resultado."
   ]
  },
  {
   "cell_type": "code",
   "execution_count": null,
   "id": "6ff810a9",
   "metadata": {},
   "outputs": [
    {
     "name": "stdout",
     "output_type": "stream",
     "text": [
      "0 x 2=  0\n",
      "1 x 2=  2\n",
      "2 x 2=  4\n",
      "3 x 2=  6\n",
      "4 x 2=  8\n",
      "5 x 2=  10\n",
      "6 x 2=  12\n",
      "7 x 2=  14\n",
      "8 x 2=  16\n",
      "9 x 2=  18\n",
      "10 x 2=  20\n"
     ]
    }
   ],
   "source": [
    "for i in range (11):\n",
    "    print(i, \"x 2= \", i*2)"
   ]
  },
  {
   "cell_type": "markdown",
   "id": "b412c8f5",
   "metadata": {},
   "source": [
    "Challenge"
   ]
  },
  {
   "cell_type": "code",
   "execution_count": 67,
   "id": "9812870e",
   "metadata": {},
   "outputs": [
    {
     "name": "stdout",
     "output_type": "stream",
     "text": [
      "adidas\n",
      "Coca cola\n",
      "LaCoste\n"
     ]
    }
   ],
   "source": [
    "lista_marcas =['puma', 'adidas', 'nike', 'Coca cola', 'LaCoste']\n",
    "\n",
    "for i in lista_marcas:\n",
    "    if len(i) >= 6: \n",
    "        print(i)\n"
   ]
  },
  {
   "cell_type": "markdown",
   "id": "9dabcbcf",
   "metadata": {},
   "source": []
  },
  {
   "cell_type": "code",
   "execution_count": null,
   "id": "c1265558",
   "metadata": {},
   "outputs": [
    {
     "name": "stdout",
     "output_type": "stream",
     "text": [
      "No se encontro ninguna letra O\n",
      "Letra O encontrada en el mesajeHOLA\n",
      "No se encontro ninguna letra O\n",
      "No se encontro ninguna letra O\n"
     ]
    }
   ],
   "source": [
    "frase = input(\"Ingrese una frase\")\n",
    "\n",
    "for letra in frase:\n",
    "    if letra == 'o' or letra == 'O':\n",
    "        print(f\"Letra O encontrada en el mesaje {frase}\")\n",
    "    else:\n",
    "        print(\"No es la letra O\")\n"
   ]
  }
 ],
 "metadata": {
  "kernelspec": {
   "display_name": "Python 3",
   "language": "python",
   "name": "python3"
  },
  "language_info": {
   "codemirror_mode": {
    "name": "ipython",
    "version": 3
   },
   "file_extension": ".py",
   "mimetype": "text/x-python",
   "name": "python",
   "nbconvert_exporter": "python",
   "pygments_lexer": "ipython3",
   "version": "3.10.12"
  }
 },
 "nbformat": 4,
 "nbformat_minor": 5
}
