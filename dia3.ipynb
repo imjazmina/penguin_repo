{
 "cells": [
  {
   "cell_type": "markdown",
   "id": "f1ac774c",
   "metadata": {},
   "source": [
    "25/04\n",
    "### Dia 3\n",
    "Challenge 1 🤺 - 10m\n",
    "Crear una función que imprima la variable palabra."
   ]
  },
  {
   "cell_type": "code",
   "execution_count": null,
   "id": "0c62ff68",
   "metadata": {},
   "outputs": [
    {
     "name": "stdout",
     "output_type": "stream",
     "text": [
      "variable palabra\n"
     ]
    }
   ],
   "source": [
    "def imprimirpalabra():\n",
    "    palabra = 'variable palabra'\n",
    "    print(palabra)\n",
    "\n",
    "imprimirpalabra()\n",
    "\n"
   ]
  },
  {
   "cell_type": "markdown",
   "id": "7b32ae63",
   "metadata": {},
   "source": [
    "Challenge 2 🤺 - 20 min\n",
    "Crear una función que reciba dos letras (parámetros) y que verifique si son iguales:\n",
    "\n",
    "Si son iguales, imprimir \"Las letras son iguales\".\n",
    "\n",
    "De lo contrario, imprimir \"Las letras son diferentes\"."
   ]
  },
  {
   "cell_type": "code",
   "execution_count": 4,
   "id": "6d08cc8e",
   "metadata": {},
   "outputs": [
    {
     "name": "stdout",
     "output_type": "stream",
     "text": [
      "Las letras son diferentes\n"
     ]
    }
   ],
   "source": [
    "def comparacion(a, b):\n",
    "    if a == b:\n",
    "        print(\"Las letras son iguales\")\n",
    "    else:\n",
    "        print(\"Las letras son diferentes\")\n",
    "\n",
    "comparacion('a', 'b')"
   ]
  },
  {
   "cell_type": "markdown",
   "id": "f8eb19c6",
   "metadata": {},
   "source": [
    "Challenge 3 🤺 - 20m\n",
    "Crear una función que reciba dos parámetros (una palabra y un número), y que retorne True si el número es igual a la cantidad de letras de la palabra. En caso contrario, que retorne False."
   ]
  },
  {
   "cell_type": "markdown",
   "id": "344db7ea",
   "metadata": {},
   "source": [
    "### Return"
   ]
  },
  {
   "cell_type": "code",
   "execution_count": 10,
   "id": "d06e488c",
   "metadata": {},
   "outputs": [
    {
     "data": {
      "text/plain": [
       "False"
      ]
     },
     "execution_count": 10,
     "metadata": {},
     "output_type": "execute_result"
    }
   ],
   "source": [
    "def contarletras(palabra, numero):\n",
    "    if len(palabra) > 1 and len(palabra ) == numero:\n",
    "        respuesta = True\n",
    "    else: \n",
    "        respuesta = False\n",
    "    return respuesta\n",
    "\n",
    "contarletras('Jazmin', 4)\n"
   ]
  },
  {
   "cell_type": "markdown",
   "id": "d00a555b",
   "metadata": {},
   "source": [
    "Challenge 5 🤺 - 25m\n",
    "Pedir al usuario que ingrese 1 palabra, luego convertir esa palabra a una lista con sus caracteres con list(). Agregar esa lista de caracteres a una lista llamada palabras_ingresadas. Repetir el proceso 3 veces. Cada vez que se agregue una lista de caracteres, imprimir la lista palabras_ingresadas."
   ]
  },
  {
   "cell_type": "code",
   "execution_count": 22,
   "id": "ef2eb505",
   "metadata": {},
   "outputs": [
    {
     "name": "stdout",
     "output_type": "stream",
     "text": [
      "[['j', 'a', 'z', 'm', 'i', 'n']]\n",
      "[['j', 'a', 'z', 'm', 'i', 'n'], ['a', 'l', 'o', 'n', 's', 'o']]\n",
      "[['j', 'a', 'z', 'm', 'i', 'n'], ['a', 'l', 'o', 'n', 's', 'o'], ['m', 'o', 'r', 'a', 'l', 'e', 's']]\n"
     ]
    }
   ],
   "source": [
    "palabras_ingresadas = []\n",
    "\n",
    "for i in range(3):\n",
    "    palabra = input(\"Ingrese una palabra\")\n",
    "    palabras_ingresadas.append(list(palabra))\n",
    "    print (palabras_ingresadas)\n"
   ]
  },
  {
   "cell_type": "markdown",
   "id": "a484729c",
   "metadata": {},
   "source": [
    "Dada la lista de ejemplo: \n",
    "\n",
    "lista = [['h', 'o', 'l', 'i', 's'], ['h', 'e', 'l', 'l', 'o'], ['h', 'a', 'l', 'l', 'o']]\n",
    "\n",
    "Crear una función que imprima una grilla (lista de listas), una línea por cada lista dentro de la lista principal.\n",
    "\n",
    "Ejemplo del resultado esperado:\n",
    "\n",
    "['h', 'o', 'l', 'i', 's']\n",
    "['h', 'e', 'l', 'l', 'o']\n",
    "['h', 'a', 'l', 'l', 'o']"
   ]
  },
  {
   "cell_type": "code",
   "execution_count": 26,
   "id": "ccd4eba1",
   "metadata": {},
   "outputs": [
    {
     "name": "stdout",
     "output_type": "stream",
     "text": [
      "['h', 'o', 'l', 'i', 's']\n",
      "['h', 'e', 'l', 'l', 'o']\n",
      "['h', 'a', 'l', 'l', 'o']\n"
     ]
    }
   ],
   "source": [
    "lista_de_listas = [['h', 'o', 'l', 'i', 's'], ['h', 'e', 'l', 'l', 'o'], ['h', 'a', 'l', 'l', 'o']]\n",
    "\n",
    "def imprimirlistas():\n",
    "    for i in lista_de_listas:\n",
    "        print(i)\n",
    "\n",
    "imprimirlistas()"
   ]
  },
  {
   "cell_type": "markdown",
   "id": "0fa6b9f5",
   "metadata": {},
   "source": [
    "Tres intentos \n",
    "definir palabra a encontrar\n",
    "Mostrar mesaje de bienvenida\n",
    "ingresa la palabra\n",
    "compara la palabra completa \n",
    "\n",
    "compara la palabra letra por letra\n",
    "    si la letra existe dentro de la palabra entonces []\n",
    "    si la letra se encuentra en la ubicacion correcta ()\n",
    "\n",
    "Mostrar mensaje Felicidades ganasrw\n"
   ]
  },
  {
   "cell_type": "code",
   "execution_count": 19,
   "id": "b1944921",
   "metadata": {},
   "outputs": [
    {
     "name": "stdout",
     "output_type": "stream",
     "text": [
      "Felicidades\n",
      "Game Over\n"
     ]
    }
   ],
   "source": [
    "\n",
    "cantidad_de_letras = 6\n",
    "#intentos = 3\n",
    "palabra_correcta = 'choclo' \n",
    "palabra_verificada = []\n",
    "def verificacion():\n",
    "    intentos = 3\n",
    "    while intentos > 0:\n",
    "        palabra_ingresada = input(\"Bienvenido. Ingrese una palabra\")\n",
    "        if palabra_ingresada == palabra_correcta:\n",
    "            print(\"Felicidades\")\n",
    "            break\n",
    "        else:\n",
    "        #print(len(palabra_ingresada)\n",
    "            for i in range(cantidad_de_letras):# recorrer la palabra ingresada Pueblo\n",
    "                letra_correcta = palabra_ingresada[i] == palabra_correcta # verificar si la letra existe dentro de lista\n",
    "                posicion_correcta = palabra_ingresada[i] == palabra_correcta[i] # verificar si la letra se encuentra en la posicion correcta\n",
    "                if letra_correcta:\n",
    "                    #print(\"La letra se encuentra dentro de la lista\")\n",
    "                    palabra_verificada.append('[' + palabra_ingresada[i] + ']')\n",
    "                elif posicion_correcta:\n",
    "                    #print(\"La leta se encuentra en la posicion correcta\")\n",
    "                    palabra_verificada.append('('+ palabra_ingresada[i] + ')')\n",
    "                else:\n",
    "                #print(\"Ninguna letra coincide\")\n",
    "                    palabra_verificada.append(palabra_ingresada[i])\n",
    "            print(palabra_verificada)\n",
    "        print(f\"Te quedan {intentos} intentos\")\n",
    "        intentos= intentos - 1\n",
    "        \n",
    "    print(\"Game Over\")\n",
    "    #return palabra_verificada\n",
    "\n",
    "verificacion()"
   ]
  }
 ],
 "metadata": {
  "kernelspec": {
   "display_name": "Python 3",
   "language": "python",
   "name": "python3"
  },
  "language_info": {
   "codemirror_mode": {
    "name": "ipython",
    "version": 3
   },
   "file_extension": ".py",
   "mimetype": "text/x-python",
   "name": "python",
   "nbconvert_exporter": "python",
   "pygments_lexer": "ipython3",
   "version": "3.10.12"
  }
 },
 "nbformat": 4,
 "nbformat_minor": 5
}
