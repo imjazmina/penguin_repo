{
 "cells": [
  {
   "cell_type": "markdown",
   "id": "ce496101",
   "metadata": {},
   "source": [
    "## Diccionarios\n",
    "Un diccionario es una colección de pares formados por una clave y un valor asociado a la clave. Se construyen poniendo los pares entre llaves `{ }` separados por comas, y separando la clave del valor con dos puntos :.\n",
    "\n",
    "Se caracterizan por:\n",
    "\n",
    "- No tienen orden.\n",
    "- Pueden contener elementos de distintos tipos.\n",
    "- Son mutables, es decir, pueden alterarse durante la ejecución de un programa.\n",
    "- Las claves son únicas, es decir, no pueden repetirse en un mismo diccionario, y pueden ser de cualquier tipo de datos."
   ]
  },
  {
   "cell_type": "code",
   "execution_count": null,
   "id": "e38d8153",
   "metadata": {},
   "outputs": [
    {
     "name": "stdout",
     "output_type": "stream",
     "text": [
      "{'nombre': 'Laura', 'apellido': 'Gomez', 'celular': '09911111', 'edad': 25}\n"
     ]
    }
   ],
   "source": [
    "#Ejemplo de diccionario\n",
    "mi_contacto = {\n",
    "    \"nombre\": \"Laura\", \n",
    "    \"apellido\": \"Gomez\", \n",
    "    \"celular\": '09911111', \n",
    "    \"edad\": 25}\n",
    "\n",
    "print(mi_contacto)"
   ]
  },
  {
   "cell_type": "code",
   "execution_count": 24,
   "id": "2cd77ba4",
   "metadata": {},
   "outputs": [
    {
     "name": "stdout",
     "output_type": "stream",
     "text": [
      "{'nombre': 'Laura', 'apellido': 'Gomez', 'celular': '09911111', 'edad': 25, 'direccion': 'Sacramento - Edif. DOT'}\n",
      "{'nombre': 'Laura', 'apellido': 'Gomez', 'celular': 99212131, 'edad': 25, 'direccion': 'Sacramento - Edif. DOT'}\n",
      "{'nombre': 'Laura', 'apellido': 'Gomez', 'celular': 99212131, 'edad': 25}\n",
      "{'nombre': 'Laura', 'apellido': 'Gomez', 'celular': 99212131}\n"
     ]
    }
   ],
   "source": [
    "#Acceder al dato del diccionario\n",
    "mi_contacto['nombre']\n",
    "mi_contacto['apellido']\n",
    "\n",
    "#Desplegar datos del diccionario\n",
    "mi_contacto.keys()\n",
    "mi_contacto.values()\n",
    "mi_contacto.items()\n",
    "\n",
    "#Actualizar los datos de mi diccionario\n",
    "mi_contacto['direccion'] = 'Sacramento - Edif. DOT'\n",
    "print(mi_contacto)\n",
    "\n",
    "#Modificar \n",
    "mi_contacto['celular'] = 99212131\n",
    "print(mi_contacto)\n",
    "\n",
    "#Eliminar ultimo par\n",
    "mi_contacto.popitem()\n",
    "print(mi_contacto)\n",
    "\n",
    "#Eliminar datos por su clave\n",
    "del mi_contacto['edad']\n",
    "print(mi_contacto)\n",
    "\n"
   ]
  },
  {
   "cell_type": "markdown",
   "id": "8651c281",
   "metadata": {},
   "source": [
    "## Challenge 1 🤺\n",
    "Escribir un programa que cree un diccionario vacío y lo vaya llenado con información sobre una persona (por ejemplo nombre, edad, sexo, teléfono, correo electrónico, etc.) que se le pida al usuario. Cada vez que se añada un nuevo dato debe imprimirse el contenido del diccionario."
   ]
  },
  {
   "cell_type": "code",
   "execution_count": 25,
   "id": "85760e0e",
   "metadata": {},
   "outputs": [
    {
     "name": "stdout",
     "output_type": "stream",
     "text": [
      "{'nombre': ''}\n"
     ]
    },
    {
     "ename": "ValueError",
     "evalue": "invalid literal for int() with base 10: ''",
     "output_type": "error",
     "traceback": [
      "\u001b[31m---------------------------------------------------------------------------\u001b[39m",
      "\u001b[31mValueError\u001b[39m                                Traceback (most recent call last)",
      "\u001b[36mCell\u001b[39m\u001b[36m \u001b[39m\u001b[32mIn[25]\u001b[39m\u001b[32m, line 6\u001b[39m\n\u001b[32m      3\u001b[39m agenda[\u001b[33m'\u001b[39m\u001b[33mnombre\u001b[39m\u001b[33m'\u001b[39m] = \u001b[38;5;28minput\u001b[39m(\u001b[33m'\u001b[39m\u001b[33mIngrese su nombre: \u001b[39m\u001b[33m'\u001b[39m)\n\u001b[32m      4\u001b[39m \u001b[38;5;28mprint\u001b[39m(agenda)\n\u001b[32m----> \u001b[39m\u001b[32m6\u001b[39m agenda[\u001b[33m'\u001b[39m\u001b[33medad\u001b[39m\u001b[33m'\u001b[39m] = \u001b[38;5;28;43mint\u001b[39;49m\u001b[43m(\u001b[49m\u001b[38;5;28;43minput\u001b[39;49m\u001b[43m(\u001b[49m\u001b[33;43m'\u001b[39;49m\u001b[33;43mIngrese su edad: \u001b[39;49m\u001b[33;43m'\u001b[39;49m\u001b[43m)\u001b[49m\u001b[43m)\u001b[49m\n\u001b[32m      7\u001b[39m \u001b[38;5;28mprint\u001b[39m(agenda)\n\u001b[32m      9\u001b[39m agenda[\u001b[33m'\u001b[39m\u001b[33msexo\u001b[39m\u001b[33m'\u001b[39m] = \u001b[38;5;28minput\u001b[39m(\u001b[33m'\u001b[39m\u001b[33mIngrese su sexo: \u001b[39m\u001b[33m'\u001b[39m)\n",
      "\u001b[31mValueError\u001b[39m: invalid literal for int() with base 10: ''"
     ]
    }
   ],
   "source": [
    "agenda = {}\n",
    "\n",
    "agenda['nombre'] = input('Ingrese su nombre: ')\n",
    "print(agenda)\n",
    "\n",
    "agenda['edad'] = int(input('Ingrese su edad: '))\n",
    "print(agenda)\n",
    "\n",
    "agenda['sexo'] = input('Ingrese su sexo: ')\n",
    "print(agenda)\n",
    "\n",
    "agenda['telefono'] = int(input('Ingrese su teléfono: '))\n",
    "print(agenda)\n",
    "\n",
    "agenda['correo electronico'] = input('Ingrese su correo electrónico: ')\n",
    "print(agenda)\n",
    "agenda.values()"
   ]
  },
  {
   "cell_type": "code",
   "execution_count": null,
   "id": "4d35de02",
   "metadata": {},
   "outputs": [
    {
     "name": "stdout",
     "output_type": "stream",
     "text": [
      " Lista de Diccionario\n",
      "{'nombre': 'eduardo'}\n",
      "{'nombre': 'eduardo'}\n"
     ]
    }
   ],
   "source": [
    "mi_diccionario = {}\n",
    "# diccionario vacio\n",
    "\n",
    "# crear informacion que se le pida al usuario\n",
    "while True:\n",
    "    \n",
    "    clave = input(\"¿Qué clave deseas agregar? (ej. 'nombre', 'edad'): \")\n",
    "    valor = input(\"Ingrese el valor para el diccionario\")\n",
    "\n",
    "    mi_diccionario[clave] = valor\n",
    "    print(\" Lista de Diccionario\")\n",
    "    print(mi_diccionario)\n",
    "\n",
    "    continuar = input(\"Deseas agregar mas datos? si o no...\").lower()\n",
    "    if continuar != \"si\" and continuar != \"si\":\n",
    "        break\n",
    "\n",
    "# imprimir cada vez que se vaya llenado\n",
    "print(mi_diccionario)"
   ]
  },
  {
   "cell_type": "markdown",
   "id": "12f55fba",
   "metadata": {},
   "source": [
    "## Challenge 2 🤺\n",
    "\n",
    "Crear una tarjeta personal. El usuario (mediante input) puede elegir:\n",
    "\n",
    "1. Crear datos nuevos\n",
    "2. Modificar datos\n",
    "3. Eliminar datos"
   ]
  },
  {
   "cell_type": "code",
   "execution_count": null,
   "id": "62228f57",
   "metadata": {},
   "outputs": [
    {
     "ename": "ValueError",
     "evalue": "invalid literal for int() with base 10: ''",
     "output_type": "error",
     "traceback": [
      "\u001b[31m---------------------------------------------------------------------------\u001b[39m",
      "\u001b[31mValueError\u001b[39m                                Traceback (most recent call last)",
      "\u001b[36mCell\u001b[39m\u001b[36m \u001b[39m\u001b[32mIn[21]\u001b[39m\u001b[32m, line 9\u001b[39m\n\u001b[32m      1\u001b[39m tarjeta_personal = {}\n\u001b[32m      3\u001b[39m \u001b[33;03m'''\u001b[39;00m\n\u001b[32m      4\u001b[39m \u001b[33;03mEl usuario tiene que seleccionar cualquiera de las 3 opc.\u001b[39;00m\n\u001b[32m      5\u001b[39m \u001b[33;03m1- Crear\u001b[39;00m\n\u001b[32m      6\u001b[39m \u001b[33;03m2 - Modificar\u001b[39;00m\n\u001b[32m      7\u001b[39m \u001b[33;03m3 -Eliminar\u001b[39;00m\n\u001b[32m      8\u001b[39m \u001b[33;03m'''\u001b[39;00m\n\u001b[32m----> \u001b[39m\u001b[32m9\u001b[39m seleccion = \u001b[38;5;28;43mint\u001b[39;49m\u001b[43m(\u001b[49m\u001b[38;5;28;43minput\u001b[39;49m\u001b[43m(\u001b[49m\u001b[33;43m'\u001b[39;49m\u001b[33;43mIngrese una opcion\u001b[39;49m\u001b[33;43m'\u001b[39;49m\u001b[43m)\u001b[49m\u001b[43m)\u001b[49m\n\u001b[32m     10\u001b[39m \u001b[38;5;28;01mif\u001b[39;00m seleccion == \u001b[32m1\u001b[39m:\n\u001b[32m     11\u001b[39m     clave = \u001b[38;5;28minput\u001b[39m(\u001b[33m'\u001b[39m\u001b[33mingrese el clave\u001b[39m\u001b[33m'\u001b[39m)\n",
      "\u001b[31mValueError\u001b[39m: invalid literal for int() with base 10: ''"
     ]
    }
   ],
   "source": [
    "tarjeta_personal = {}\n",
    "\n",
    "'''\n",
    "El usuario tiene que seleccionar cualquiera de las 3 opc.\n",
    "1- Crear\n",
    "2 - Modificar\n",
    "3 -Eliminar\n",
    "'''\n",
    "\n",
    "while True:\n",
    "    \n",
    "    seleccion = int(input('Ingrese una opcion: 1- Crear 2- Modificar 3- Eliminar 4 - Salir '))\n",
    "\n",
    "    if seleccion == 1:\n",
    "        clave = input('ingrese el clave')\n",
    "        valor = input('Ingrese el valor')\n",
    "        tarjeta_personal[clave] = valor\n",
    "        print(tarjeta_personal)\n",
    "\n",
    "    elif seleccion == 2:\n",
    "        tarjeta_personal.keys()\n",
    "        clave = input('ingrese el clave')\n",
    "        valor = input('Ingrese el valor')\n",
    "        tarjeta_personal[clave] = valor\n",
    "        print(tarjeta_personal)\n",
    "\n",
    "    elif seleccion == 3:\n",
    "        tarjeta_personal.keys()\n",
    "        clave = input('Ingrese la clave a eliminar')\n",
    "        del tarjeta_personal[clave]\n",
    "    \n",
    "    elif seleccion == 4:\n",
    "        print(\"Gracias por todo\")\n",
    "        break\n",
    "\n",
    "    else:\n",
    "        print('La opcion ingresada no es valida, ingrese nuevamente una opcion')"
   ]
  },
  {
   "cell_type": "markdown",
   "id": "c8806f7a",
   "metadata": {},
   "source": [
    "## Challenge 3 🤺\n",
    "Crear una agenda de contactos. El usuario puede elegir:\n",
    "\n",
    "1. Mostrar los contactos\n",
    "2. Crear contacto\n",
    "3. Modificar datos del contacto"
   ]
  },
  {
   "cell_type": "code",
   "execution_count": null,
   "id": "08b670cf",
   "metadata": {},
   "outputs": [
    {
     "name": "stdout",
     "output_type": "stream",
     "text": [
      "Elija una opcion numerica:\n",
      "Opcion 1: Mostrar contactos\n",
      "Opcion 2: Crear contactos\n",
      "Opcion 3: Modificar datos de contacto\n",
      "Opcion 4: Salir \n",
      "\n",
      "Datos de contactos\n",
      " {} \n",
      "\n",
      "Elija una opcion numerica:\n",
      "Opcion 1: Mostrar contactos\n",
      "Opcion 2: Crear contactos\n",
      "Opcion 3: Modificar datos de contacto\n",
      "Opcion 4: Salir \n",
      "\n",
      "Creando contacto\n",
      "creado el contacto Fer con la clave edad y el valor 21\n",
      "\n",
      "Elija una opcion numerica:\n",
      "Opcion 1: Mostrar contactos\n",
      "Opcion 2: Crear contactos\n",
      "Opcion 3: Modificar datos de contacto\n",
      "Opcion 4: Salir \n",
      "\n",
      "Datos de contactos\n",
      " {'Fer': {'edad': '21'}} \n",
      "\n",
      "Elija una opcion numerica:\n",
      "Opcion 1: Mostrar contactos\n",
      "Opcion 2: Crear contactos\n",
      "Opcion 3: Modificar datos de contacto\n",
      "Opcion 4: Salir \n",
      "\n"
     ]
    }
   ],
   "source": [
    "agenda_contactos = {}\n",
    "\n",
    "while True:\n",
    "    datos = {}\n",
    "    print(\"Elija una opcion numerica:\")\n",
    "    print(\"Opcion 1: Mostrar contactos\")\n",
    "    print(\"Opcion 2: Crear contactos\")\n",
    "    print(\"Opcion 3: Modificar datos de contacto\")\n",
    "    print(\"Opcion 4: Salir \\n\")\n",
    "    opcion = (input(\"Ingrese el numero de la opcion:\"))\n",
    "\n",
    "    if opcion == \"1\":\n",
    "        print(\"Datos de contactos\")\n",
    "        print(f\" {agenda_contactos} \\n\")\n",
    "\n",
    "    elif opcion == \"2\":\n",
    "        print(\"Creando contacto\")\n",
    "        nombre = input(\"Ingrese nombre del contacto\")\n",
    "        llave = input(\"Ingrese una clave del contacto\")\n",
    "        valor = input(\"Ingrese un valor a la clave\")\n",
    "        datos[llave] =  valor\n",
    "        agenda_contactos[nombre] = datos\n",
    "        print(f\"creado el contacto {nombre} con la clave {llave} y el valor {valor}\\n\")\n",
    "\n",
    "\n",
    "    elif opcion == \"3\":\n",
    "        print(\"Modificando datos de contacto\")\n",
    "        print(agenda_contactos.keys())\n",
    "        nombre = input(\"Ingrese nombre del contacto que desea modificar\")\n",
    "        llave = input(\"Ingrese una clave del contacto que quiere modificar\")\n",
    "        valor = input(\"Ingrese un valor a la clave\")\n",
    "        if nombre in agenda_contactos and llave in agenda_contactos.values():\n",
    "            datos[llave] =  valor\n",
    "            agenda_contactos[nombre] = datos\n",
    "            print(f\"Modificado el contacto {nombre} en la clave {llave} con el valor {valor}\\n\")\n",
    "        else:\n",
    "            print(\"Datos invalidos\")\n",
    "\n",
    "    elif opcion == \"4\":\n",
    "        print(\"Saliendo del programa, agenda finalizada\\n\")\n",
    "        print(agenda_contactos)\n",
    "        break\n",
    "\n",
    "    else: \n",
    "        print(\"dato invalido, recuerde solo seleccionar 1, 2, 3 o 4\\n\")"
   ]
  },
  {
   "cell_type": "code",
   "execution_count": null,
   "id": "12d0650b",
   "metadata": {},
   "outputs": [],
   "source": [
    "agenda_de_contactos = {\n",
    "\n",
    "    'contacto 1': {\n",
    "        'nombre ': 'fernando',\n",
    "        'apellido' : 'paniagua',\n",
    "        'sexo' : 'm',\n",
    "    },\n",
    "    'contacto 2': {\n",
    "        'nombre': 'jose',\n",
    "        'apellido': 'benitez',\n",
    "        'sexo': 'f',\n",
    "    }\n",
    "}\n",
    "\n",
    "def crear_nuevo_contacto():\n",
    "    palabra_clave = input('ingrese un campo para almacenar datos')\n",
    "    agenda_de_contactos[palabra_clave] = input(f'ingrese los datos para el campo {palabra_clave}')\n",
    "\n",
    "def modificar_datos():\n",
    "    palabra_clave = input('ingrese el campo que desea modificar')\n",
    "    if palabra_clave in tarjeta_personal:\n",
    "        tarjeta_personal[palabra_clave] = input(f'Ingrese los datos a modificar del campo {palabra_clave}') \n",
    "\n",
    "def eliminar_datos():\n",
    "    palabra_clave = input('Ingrese el campo que desea eliminar')\n",
    "    if palabra_clave in tarjeta_personal:\n",
    "        del tarjeta_personal[palabra_clave]\n",
    "\n",
    "#while True:\n",
    "    accion_del_usuario = int(input('Que accion desea realizar? 1) Mostrar lo contactos, 2) Crear contacto, 3) Modificar datos del contacto'))\n",
    "    if accion_del_usuario == 1:\n",
    "        mostrar_contactos()\n",
    "        print(tarjeta_personal)\n",
    "    elif accion_del_usuario == 2:\n",
    "        crear_contacto()\n",
    "        print(tarjeta_personal)\n",
    "    elif accion_del_usuario == 3:\n",
    "        modificar_contacto()\n",
    "        print(tarjeta_personal)\n",
    "    else:\n",
    "        print('La opción no es válida')"
   ]
  },
  {
   "cell_type": "markdown",
   "id": "88734265",
   "metadata": {},
   "source": [
    "## Programación orientada a objetos\n",
    "\n",
    "Python también nos permite representar cosas del mundo real, más fielmente por medio de estructuras de datos llamadas **objetos**.\n",
    "\n",
    "Tanto sus atributos (características y propiedades) como sus métodos (funciones que nos permiten interactuar con el objeto) se definen en una `clase`.\n",
    "\n",
    "Esta `clase` es como una plantilla para los objetos que queremos crear, como un molde.\n",
    "\n",
    "Luego ese molde se utiliza para crear la cantidad que necesitemos de los `objetos` de esa `clase`."
   ]
  },
  {
   "cell_type": "code",
   "execution_count": 5,
   "id": "c48abdec",
   "metadata": {},
   "outputs": [
    {
     "name": "stdout",
     "output_type": "stream",
     "text": [
      "2 4\n",
      "2 4\n"
     ]
    }
   ],
   "source": [
    "class Perro:\n",
    "    ojos = 2\n",
    "    patas = 4\n",
    "\n",
    "firu = Perro()\n",
    "\n",
    "peter = Perro()\n",
    "\n",
    "print(firu.ojos, firu.patas)\n",
    "print(peter.ojos, peter.patas)"
   ]
  },
  {
   "cell_type": "markdown",
   "id": "b92aa0f6",
   "metadata": {},
   "source": [
    "## Definiendo atributos\n",
    "Es importante distinguir que existen dos tipos de atributos:\n",
    "\n",
    "Atributos de clase: Son atributos cuyos valores definen a la clase, por lo tanto serán comunes para todos los objetos. (Mostrar el que ya teníamos arriba)\n",
    "\n",
    "Atributos de instancia: Son atributos cuyos valores son específicos de los objetos creados (la instancia). En nuestro caso, de ambas mascotas tiene el atributo `nombre`, pero cada una tiene un valor diferente, que se define al crear el objeto. (Mostrar los de instancia)"
   ]
  },
  {
   "cell_type": "code",
   "execution_count": 8,
   "id": "7b796393",
   "metadata": {},
   "outputs": [
    {
     "name": "stdout",
     "output_type": "stream",
     "text": [
      "delmer marron\n"
     ]
    }
   ],
   "source": [
    "class Perro:\n",
    "    ojos = 2\n",
    "    patas = 4\n",
    "\n",
    "    def __init__(self, color, raza):\n",
    "        self.color = color\n",
    "        self.raza = raza\n",
    "\n",
    "yuwailer = Perro('marron', 'delmer')\n",
    "\n",
    "print(yuwailer.raza, yuwailer.color)\n"
   ]
  },
  {
   "cell_type": "code",
   "execution_count": 11,
   "id": "07d04e13",
   "metadata": {},
   "outputs": [
    {
     "name": "stdout",
     "output_type": "stream",
     "text": [
      "camino dando saltitos\n"
     ]
    }
   ],
   "source": [
    "class Perro:\n",
    "    #Atributo de clase\n",
    "    ojos = 2\n",
    "    patas = 4\n",
    "\n",
    "    #Atributo de instancia\n",
    "    def __init__(self, color, raza):\n",
    "        self.color = color\n",
    "        self.raza = raza\n",
    "\n",
    "    #Metodos - acciones que realizan nuestros objetos\n",
    "    def ladrido(self):\n",
    "        print(\"guau guau\")\n",
    "\n",
    "    def caminar(self):\n",
    "        return ('camino dando saltitos')\n",
    "\n",
    "yuwailer = Perro('negro', ' caniche')\n",
    "\n",
    "print(yuwailer.caminar())\n"
   ]
  },
  {
   "cell_type": "markdown",
   "id": "c5e161f2",
   "metadata": {},
   "source": [
    "## Challenge 🤺\n",
    "Crear dos métodos para nuestro animal y ejecutar, debe ser algo específico de ese animal.\n",
    "\n",
    "Ejemplo: \"Cuando hablo, digo X\".\n",
    "Ejemplo: \"Cuando me muevo, hago X\"."
   ]
  },
  {
   "cell_type": "code",
   "execution_count": 18,
   "id": "e8031f1b",
   "metadata": {},
   "outputs": [
    {
     "data": {
      "text/plain": [
       "'naranja'"
      ]
     },
     "execution_count": 18,
     "metadata": {},
     "output_type": "execute_result"
    }
   ],
   "source": [
    "class Gato:\n",
    "    #Atributos de clase o comunes\n",
    "    patas = 4\n",
    "    orejas = 2\n",
    "    cola = 1\n",
    "\n",
    "    # Atributos de instancia\n",
    "    def __init__(self, color, raza):\n",
    "        self.amarillo = color\n",
    "        self.delmer = raza\n",
    "\n",
    "    #Metodos\n",
    "    def saltar(self):\n",
    "        print(\"estoy saltando\")\n",
    "\n",
    "miso = Gato(\"naranja\", 'delmer')\n",
    "\n",
    "miso.amarillo\n"
   ]
  },
  {
   "cell_type": "code",
   "execution_count": 21,
   "id": "e265ba44",
   "metadata": {},
   "outputs": [
    {
     "name": "stdout",
     "output_type": "stream",
     "text": [
      "Holaa(en miau)\n"
     ]
    }
   ],
   "source": [
    "class Gato:\n",
    "    orejas =2 \n",
    "    patas=4\n",
    "    tipo = \"felino\"\n",
    "    \n",
    "    def __init__(self, color, tamanho):\n",
    "        self.color = color\n",
    "        self.tamanho = tamanho\n",
    "    \n",
    "    def maulla(self):\n",
    "        return ('Holaa(en miau)')\n",
    "    \n",
    "    def sonido(self):\n",
    "        return('Ronronea fuerte')\n",
    "    \n",
    "    def salta(self):\n",
    "        return ('Saltaa alto')\n",
    "    \n",
    "eldestructordesofas = Gato('blanco', 'grande')\n",
    "\n",
    "print(f'{eldestructordesofas.maulla()}')"
   ]
  },
  {
   "cell_type": "code",
   "execution_count": null,
   "id": "65012c17",
   "metadata": {},
   "outputs": [
    {
     "name": "stdout",
     "output_type": "stream",
     "text": [
      "cuando como cierro los ojos\n",
      "Ahhhhh\n"
     ]
    }
   ],
   "source": [
    "class tortuga:\n",
    "    ojos = 2\n",
    "    patas = 4\n",
    "    caparazon = 1\n",
    "\n",
    "    def __init__(self, color, raza):\n",
    "        self.color = color\n",
    "        self.raza = raza\n",
    "\n",
    "    def comer(self):\n",
    "        return(\"cuando como cierro los ojos\")\n",
    "\n",
    "    def gemido(self):\n",
    "        return(\"Ahhhhh\")\n",
    "\n",
    "philipo = tortuga(\"verde\" , 'tierra')\n",
    "\n",
    "print(philipo.comer())\n",
    "print(philipo.gemido())"
   ]
  },
  {
   "cell_type": "markdown",
   "id": "7a7b746a",
   "metadata": {},
   "source": [
    "## Herencia\n",
    "Ojo! Esto no es una herencia como tal, sino una relación entre clases.\n",
    "Lo que representa la herencia es que una clase hereda los atributos y métodos de otra clase. (mostrar ejemplo)\n",
    "\n",
    "Dado que una clase hija hereda los atributos y métodos de la padre, nos puede ser muy útil cuando tengamos clases que se parecen entre sí pero tienen ciertas particularidades"
   ]
  },
  {
   "cell_type": "code",
   "execution_count": 23,
   "id": "acebcb19",
   "metadata": {},
   "outputs": [],
   "source": [
    "class Gato:\n",
    "    orejas =2 \n",
    "    patas = 4\n",
    "    tipo = \"felino\"\n",
    "    \n",
    "    def __init__(self, color, tamanho):\n",
    "        self.color = color\n",
    "        self.tamanho = tamanho\n",
    "    \n",
    "    def maulla(self):\n",
    "        return ('Holaa(en miau)')\n",
    "    \n",
    "    def sonido(self):\n",
    "        return('Ronronea fuerte')\n",
    "    \n",
    "    def salta(self):\n",
    "        return ('Saltaa alto')"
   ]
  },
  {
   "cell_type": "code",
   "execution_count": null,
   "id": "580df618",
   "metadata": {},
   "outputs": [
    {
     "data": {
      "text/plain": [
       "'juega con la pelota'"
      ]
     },
     "execution_count": 27,
     "metadata": {},
     "output_type": "execute_result"
    }
   ],
   "source": [
    "class Gatito(Gato):\n",
    "    cola = 1\n",
    "\n",
    "    def jugar(self):\n",
    "        return 'juega con la pelota'\n",
    "\n",
    "michi = Gatito('gris', 'pquenho')\n",
    "\n",
    "michi.maulla()\n",
    "michi.jugar()"
   ]
  },
  {
   "cell_type": "markdown",
   "id": "d766e96e",
   "metadata": {},
   "source": [
    "## Challenge 🤺\n",
    "Definir una clase madre que herede a sus clases hijas dos atributos de instancia. Mostrar ambos atributos en pantalla desde los objetos de las clases hijas.\n",
    "\n",
    "Observación: Editar las clases hijas para que no se inicialicen."
   ]
  },
  {
   "cell_type": "code",
   "execution_count": null,
   "id": "37da5ec6",
   "metadata": {},
   "outputs": [],
   "source": [
    "class Perro():\n",
    "    patas = 4\n",
    "    ojos = 2\n",
    "    orejas = 2\n",
    "    boca = 1\n",
    "    cola = 1\n",
    "    nariz = 1\n",
    "\n",
    "    def __init__(self, color, raza):\n",
    "\n",
    "        self.color = color\n",
    "        self.raza = raza\n",
    "\n",
    "    def ladrar(self):\n",
    "        return('Cuando hablo, digo \"Guau, Guau\"')\n",
    "\n",
    "    def movimiento(self):\n",
    "        return('Cuando me muevo, muerdo grrrr')\n",
    "\n",
    "Palermo = Perro(\"Negro\", \"Rottweiler\")\n",
    "print(Palermo.ladrar())\n",
    "print(Palermo.movimiento())\n",
    "\n",
    "class Perrito(Perro):\n",
    "\n",
    "    tamano = \"Mas pequeno que el grande\"\n",
    "    ladrido = \"Mas chirroso\"\n",
    "\n",
    "    def jugar(self):\n",
    "        return 'Me encanta jugar con Dino mi juguete'\n",
    "\n",
    "Choco = Perrito('Negro', 'Rottweiler')\n",
    "print(Choco.jugar())\n",
    "print(Choco.ladrar())\n",
    "print(Choco.movimiento())"
   ]
  },
  {
   "cell_type": "code",
   "execution_count": 28,
   "id": "405e0cda",
   "metadata": {},
   "outputs": [
    {
     "name": "stdout",
     "output_type": "stream",
     "text": [
      "Kenton\n",
      "Negro\n"
     ]
    }
   ],
   "source": [
    "class Automovil:\n",
    "    ruedas = 4\n",
    "    volante = 1\n",
    "    ventanas = 4\n",
    "    asientos = 4\n",
    "    \n",
    "    def __init__ (self,marca,color):\n",
    "        self.marca = marca\n",
    "        self.color = color\n",
    "\n",
    "class Motos(Automovil):\n",
    "    ruedas = 2\n",
    "    asientos = 2\n",
    "    ventanas = 0\n",
    "\n",
    "moto1 = Motos('Kenton','Negro')\n",
    "\n",
    "print(moto1.marca)\n",
    "print(moto1.color)"
   ]
  }
 ],
 "metadata": {
  "kernelspec": {
   "display_name": ".venv",
   "language": "python",
   "name": "python3"
  },
  "language_info": {
   "codemirror_mode": {
    "name": "ipython",
    "version": 3
   },
   "file_extension": ".py",
   "mimetype": "text/x-python",
   "name": "python",
   "nbconvert_exporter": "python",
   "pygments_lexer": "ipython3",
   "version": "3.12.6"
  }
 },
 "nbformat": 4,
 "nbformat_minor": 5
}
