{
 "cells": [
  {
   "cell_type": "markdown",
   "id": "a3012d3c",
   "metadata": {},
   "source": [
    "# Python\n",
    "## Buenas practicas\n",
    "\n",
    "The Zen of Python, by Tim Peters\n",
    "\n",
    "Es lindo, sencillo y legible.\n"
   ]
  },
  {
   "cell_type": "markdown",
   "id": "99f4d3a1",
   "metadata": {},
   "source": [
    "### Mi primer Hello World\n"
   ]
  },
  {
   "cell_type": "code",
   "execution_count": 4,
   "id": "8b0e2e89",
   "metadata": {},
   "outputs": [
    {
     "name": "stdout",
     "output_type": "stream",
     "text": [
      "Hello, World!\n"
     ]
    }
   ],
   "source": [
    "print(\"Hello, World!\")"
   ]
  },
  {
   "cell_type": "markdown",
   "id": "b32302f9",
   "metadata": {},
   "source": [
    "### Variables\n",
    "\n",
    "- Snake Case, se escribe con minuscula, sin espacios, se utilizan _ \n",
    "- Nombres descriptivos\n",
    "\n",
    "## Scoup: limite de alcance de las variables\n",
    "Variables globales: tienen alcance en todo el archivo\n",
    "Variables locales: tienen alcance solo en el bloque de codigo en que se ha declarado\n",
    "\n"
   ]
  },
  {
   "cell_type": "code",
   "execution_count": null,
   "id": "c0e57188",
   "metadata": {},
   "outputs": [
    {
     "name": "stdout",
     "output_type": "stream",
     "text": [
      "Jazmin Alonso\n",
      "Maria Alonso\n",
      "('Jazmin', 'Alonso')\n",
      "Mi nombre es Maria Alonso\n"
     ]
    }
   ],
   "source": [
    "nombre = \"Jazmin\"\n",
    "apellido = \"Alonso\"\n",
    "\n",
    "print(nombre, apellido)\n",
    "\n",
    "nombre = \"Maria\"\n",
    "print(nombre, apellido) # Las variables son mutables, reasignables\n",
    "\n",
    "nombre_completo = 'Jazmin', \"Alonso\" # se puede guardar mas de un dato, tupla\n",
    "print(nombre_completo)\n",
    "\n",
    "print(f\"Mi nombre es {nombre} {apellido}\") #concatenacion con format f, tambien se puede con +\n",
    "\n"
   ]
  },
  {
   "cell_type": "markdown",
   "id": "edd10b34",
   "metadata": {},
   "source": [
    "### Tipos de variables\n",
    "\n",
    "int= numeros enteros 11 <br>\n",
    "float= numeros decimales 11.2 <br>\n",
    "str= cadena de textos \"Jaz\", 'Jaz' <br>\n",
    "bool= true, false"
   ]
  },
  {
   "cell_type": "markdown",
   "id": "a34c83a0",
   "metadata": {},
   "source": [
    "### Operaciones aritmeticas\n",
    "Python lee la cuenta de izq a derecha, el orden de las operaciones es igual a la matematica\n",
    "Suma, resta, multiplicacion, division\n",
    "\n"
   ]
  },
  {
   "cell_type": "markdown",
   "id": "b5f336c0",
   "metadata": {},
   "source": [
    "### Challenge 1 🤺 \n",
    "\n",
    "Suma: asignar dos números en dos variables diferentes cantidad_de_manzanas y cantidad_de_naranjas.\n",
    " Luego sumar ambas variables en cantidad_de_frutas. Imprimir la última variable.\n",
    "\n",
    "Resta: asignar un valor numérico a la variable frutas_vendidas. \n",
    "Luego, asignar la resta entre cantidad_de_frutas y frutas_vendidas a la variable frutas_restantes. \n",
    "Imprimir la última variable.\n"
   ]
  },
  {
   "cell_type": "code",
   "execution_count": null,
   "id": "31305dc9",
   "metadata": {},
   "outputs": [
    {
     "name": "stdout",
     "output_type": "stream",
     "text": [
      "La cantidad de frutas es  55\n",
      "La cantidad de frutas restantes es  45\n"
     ]
    }
   ],
   "source": [
    "\n",
    "cantidad_de_manzanas = 25\n",
    "cantidad_de_naranjas = 30\n",
    "\n",
    "cantidad_de_frutas = cantidad_de_manzanas + cantidad_de_naranjas\n",
    "print(\"La cantidad de frutas es \", cantidad_de_frutas)\n",
    "\n",
    "frutas_vendidas = 10\n",
    "frutas_restantes = cantidad_de_frutas - frutas_vendidas\n",
    "print(\"La cantidad de frutas restantes es \", frutas_restantes)\n",
    "\n"
   ]
  },
  {
   "cell_type": "markdown",
   "id": "670c048b",
   "metadata": {},
   "source": [
    "### Challenge 2 🤺 \n",
    "\n",
    "Asignar el nombre y el apellido de tu compañera/o a las variables nombre y apellido. <br>\n",
    "Luego, imprimir una frase, utilizando las variables. <br>\n",
    "EJEMPLO: \"Hola. Me llamo Claudia Melgarejo. Mucho gusto.\""
   ]
  },
  {
   "cell_type": "code",
   "execution_count": 23,
   "id": "48e45cfe",
   "metadata": {},
   "outputs": [
    {
     "name": "stdout",
     "output_type": "stream",
     "text": [
      "Hola. Me llamo Tiago Ramírez. Mucho gusto.\n"
     ]
    }
   ],
   "source": [
    "nombre = \"Tiago\"\n",
    "apellido = \"Ramírez\"\n",
    "print(f\"Hola. Me llamo {nombre} {apellido}. Mucho gusto.\")"
   ]
  },
  {
   "cell_type": "markdown",
   "id": "a7ee51b1",
   "metadata": {},
   "source": [
    "### Input\n",
    "siempre trae el dato tipo texto"
   ]
  },
  {
   "cell_type": "code",
   "execution_count": null,
   "id": "70f1b819",
   "metadata": {},
   "outputs": [
    {
     "name": "stdout",
     "output_type": "stream",
     "text": [
      "<class 'str'>\n",
      "3\n"
     ]
    }
   ],
   "source": [
    "print(type(nombre)) # mostrar el tipo de dato\n",
    "\n",
    "n1= int(input('Ingrese un número: '))\n",
    "n2= int(input('Ingrese otro número: '))\n",
    "suma = n1 + n2 \n",
    "print(suma) # str"
   ]
  },
  {
   "cell_type": "markdown",
   "id": "ff9559d2",
   "metadata": {},
   "source": [
    "### Challenge 3 🤺 \n",
    "Solicitar al usuario ingresar dos números y almacenarlos en dos variables. Luego, imprimir la suma de los dos números."
   ]
  },
  {
   "cell_type": "code",
   "execution_count": 30,
   "id": "e1ceaaed",
   "metadata": {},
   "outputs": [
    {
     "name": "stdout",
     "output_type": "stream",
     "text": [
      "La suma de ambos numero es 3\n"
     ]
    }
   ],
   "source": [
    "numero1= int(input('Ingrese el primer número: '))\n",
    "numero2= int(input('Ingrese el segundo número: '))\n",
    "suma = numero1 + numero2\n",
    "print(f\"La suma de ambos numero es {suma}\")"
   ]
  },
  {
   "cell_type": "markdown",
   "id": "f6b255c5",
   "metadata": {},
   "source": [
    "### Funciones\n",
    "Bloques de codigo reutilizables\n",
    "Parametro: valor que la funcion va a recibir \n",
    "Argumento: valor que la funcion recibio al llamarla"
   ]
  },
  {
   "cell_type": "code",
   "execution_count": null,
   "id": "d6241777",
   "metadata": {},
   "outputs": [],
   "source": [
    "def suma(a, b):\n",
    "    return a + b\n",
    "\n",
    "suma(5, 10) # 15"
   ]
  },
  {
   "cell_type": "markdown",
   "id": "3a60a4a1",
   "metadata": {},
   "source": [
    "### Challenge 4 🤺\n",
    "\n",
    "Crear una función de un proceso que se les ocurra que tenga varios pasos.\n",
    "Ejecutar la función 3 veces.\n"
   ]
  },
  {
   "cell_type": "code",
   "execution_count": null,
   "id": "44fb6226",
   "metadata": {},
   "outputs": [
    {
     "name": "stdout",
     "output_type": "stream",
     "text": [
      "Abrir los ojos\n",
      "Levantar el torso\n",
      "Sentarse\n",
      "Girar el cuerpo\n",
      "Poner los pies en el suelo\n",
      "Pararse\n",
      "Abrir los ojos\n",
      "Levantar el torso\n",
      "Sentarse\n",
      "Girar el cuerpo\n",
      "Poner los pies en el suelo\n",
      "Pararse\n",
      "Abrir los ojos\n",
      "Levantar el torso\n",
      "Sentarse\n",
      "Girar el cuerpo\n",
      "Poner los pies en el suelo\n",
      "Pararse\n"
     ]
    }
   ],
   "source": [
    "def despertarse():\n",
    "    print(\"Abrir los ojos\")\n",
    "    print(\"Levantar el torso\")\n",
    "    print(\"Sentarse\")\n",
    "    print(\"Girar el cuerpo\")\n",
    "    print(\"Poner los pies en el suelo\")\n",
    "    print(\"Pararse\")\n",
    "    print(\"Estirarse\")\n",
    "\n",
    "\n",
    "despertarse()\n",
    "despertarse()\n",
    "despertarse()"
   ]
  },
  {
   "cell_type": "code",
   "execution_count": 3,
   "id": "1549ff28",
   "metadata": {},
   "outputs": [
    {
     "name": "stdout",
     "output_type": "stream",
     "text": [
      "jaz\n"
     ]
    }
   ],
   "source": [
    "def nombre():\n",
    "    nombre = input(\"Introduce tu nombre: \")\n",
    "    print(nombre)\n",
    "\n",
    "nombre()"
   ]
  },
  {
   "cell_type": "markdown",
   "id": "b87b142c",
   "metadata": {},
   "source": [
    "### Challenge numero ?\n",
    "Escribir una funcion que nos pregunte las caracteriticas de un elemento a comprar e imprima el elemento con sus caracteristicas."
   ]
  },
  {
   "cell_type": "code",
   "execution_count": 6,
   "id": "31138479",
   "metadata": {},
   "outputs": [
    {
     "name": "stdout",
     "output_type": "stream",
     "text": [
      "Las caracteristicas de tu notebook son i5 y 16gb\n",
      "Las caracteristicas de tu computadora son: Sistema operativo Windows y ram de 16\n"
     ]
    }
   ],
   "source": [
    "def notebook(procesador, ram):\n",
    "    print(f\"Las caracteristicas de tu notebook son {procesador} y {ram}\")\n",
    "\n",
    "notebook(\"i5\", \"16gb\")\n",
    "\n",
    "def celular():\n",
    "    sistemaop = input(\"Ingrese el sistema operativo de la de la computadora\")\n",
    "    ram = input(\"Ingrese la cantidad ram de la de la computadora\")\n",
    "    print(f\"Las caracteristicas de tu computadora son: Sistema operativo {sistemaop} y ram de {ram}\")\n",
    "\n",
    "celular()\n"
   ]
  }
 ],
 "metadata": {
  "kernelspec": {
   "display_name": "Python 3",
   "language": "python",
   "name": "python3"
  },
  "language_info": {
   "codemirror_mode": {
    "name": "ipython",
    "version": 3
   },
   "file_extension": ".py",
   "mimetype": "text/x-python",
   "name": "python",
   "nbconvert_exporter": "python",
   "pygments_lexer": "ipython3",
   "version": "3.10.12"
  }
 },
 "nbformat": 4,
 "nbformat_minor": 5
}
